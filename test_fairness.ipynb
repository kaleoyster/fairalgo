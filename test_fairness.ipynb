{
 "cells": [
  {
   "cell_type": "code",
   "execution_count": 1,
   "metadata": {},
   "outputs": [
    {
     "data": {
      "text/html": [
       "        <script type=\"text/javascript\">\n",
       "        window.PlotlyConfig = {MathJaxConfig: 'local'};\n",
       "        if (window.MathJax) {MathJax.Hub.Config({SVG: {font: \"STIX-Web\"}});}\n",
       "        if (typeof require !== 'undefined') {\n",
       "        require.undef(\"plotly\");\n",
       "        requirejs.config({\n",
       "            paths: {\n",
       "                'plotly': ['https://cdn.plot.ly/plotly-latest.min']\n",
       "            }\n",
       "        });\n",
       "        require(['plotly'], function(Plotly) {\n",
       "            window._Plotly = Plotly;\n",
       "        });\n",
       "        }\n",
       "        </script>\n",
       "        "
      ]
     },
     "metadata": {},
     "output_type": "display_data"
    },
    {
     "data": {
      "text/html": [
       "        <script type=\"text/javascript\">\n",
       "        window.PlotlyConfig = {MathJaxConfig: 'local'};\n",
       "        if (window.MathJax) {MathJax.Hub.Config({SVG: {font: \"STIX-Web\"}});}\n",
       "        if (typeof require !== 'undefined') {\n",
       "        require.undef(\"plotly\");\n",
       "        requirejs.config({\n",
       "            paths: {\n",
       "                'plotly': ['https://cdn.plot.ly/plotly-latest.min']\n",
       "            }\n",
       "        });\n",
       "        require(['plotly'], function(Plotly) {\n",
       "            window._Plotly = Plotly;\n",
       "        });\n",
       "        }\n",
       "        </script>\n",
       "        "
      ]
     },
     "metadata": {},
     "output_type": "display_data"
    },
    {
     "name": "stderr",
     "output_type": "stream",
     "text": [
      "WARNING:root:No module named 'numba.decorators': LFR will be unavailable. To install, run:\n",
      "pip install 'aif360[LFR]'\n"
     ]
    },
    {
     "data": {
      "text/html": [
       "<style>.container { width:100% !important; }</style>"
      ],
      "text/plain": [
       "<IPython.core.display.HTML object>"
      ]
     },
     "metadata": {},
     "output_type": "display_data"
    },
    {
     "data": {
      "application/vnd.jupyter.widget-view+json": {
       "model_id": "13794201ffff4d4dbb79c4eba7b29c99",
       "version_major": 2,
       "version_minor": 0
      },
      "text/plain": [
       "WitWidget(config={'model_type': 'classification', 'label_vocab': ['Under 50K', 'Over 50K'], 'are_sequence_exam…"
      ]
     },
     "metadata": {},
     "output_type": "display_data"
    }
   ],
   "source": [
    "import pandas as pd\n",
    "from pandas import read_csv\n",
    "from parity.pair import *\n",
    "from sklearn.tree import DecisionTreeClassifier\n",
    "from sklearn.preprocessing import LabelEncoder\n",
    "from sklearn.preprocessing import OneHotEncoder\n",
    "from sklearn.preprocessing import MinMaxScaler\n",
    "from sklearn.compose import ColumnTransformer\n",
    "\n",
    "# load the dataset\n",
    "\n",
    "def load_dataset(path, column_names):\n",
    "    dataframes = read_csv(path, header=None, na_values='?')\n",
    "    dataframes = dataframes.dropna()\n",
    "    last_ix = len(dataframes.columns) - 1\n",
    "    X, y = dataframes.drop(last_ix, axis=1), dataframes[last_ix]\n",
    "    cat_ix = X.select_dtypes(include=['object', 'bool']).columns\n",
    "    num_ix = X.select_dtypes(include=['int64', 'float64']).columns\n",
    "    #y = LabelEncoder().fit_transform(y)\n",
    "    return X, y, cat_ix, num_ix\n",
    " \n",
    "# Load up the test dataset\n",
    "train_csv_path = 'dataset/adult.data'\n",
    "#test_csv_path = 'dataset/adult.test'\n",
    "\n",
    "column_names = [\n",
    "          'age',#\n",
    "          'workclass',\n",
    "          'fnlwgt', #\n",
    "          'education',\n",
    "          'education-num',#\n",
    "          'martial-status',\n",
    "          'occupation',\n",
    "          'relationship',\n",
    "          'race',\n",
    "          'sex',\n",
    "          'capital-gain', #\n",
    "          'capital-loss', #\n",
    "          'hours-per-week',#\n",
    "          'native-country',\n",
    "          'salary'\n",
    "  ]\n",
    " \n",
    "column_names = [\n",
    "          'age',\n",
    "          'fnlwgt',\n",
    "          'education-num',\n",
    "          'capital-gain',\n",
    "          'capital-loss',\n",
    "          'hours-per-week',\n",
    "           'salary'\n",
    "  ]\n",
    "X, y, cat_ix, num_ix = load_dataset(train_csv_path, column_names)\n",
    "#X_test, y_test, cat_ix_test, num_ix_test  = load_dataset(test_csv_path)\n",
    "X = X.drop(cat_ix, axis=1)\n",
    "\n",
    "#X_test = X_test.drop(cat_ix, axis=1)\n",
    "#print(X)\n",
    "#print(cat_ix)\n",
    "#print(num_ix)\n",
    "\n",
    "clf = DecisionTreeClassifier()\n",
    "clf.fit(X, y)\n",
    "#\n",
    "#train_data = pd.read_csv('dataset/adult.data', names=column_names,\n",
    "#             sep=' *, *', na_values='?')\n",
    "#test_data  = pd.read_csv('dataset/adult.test', names=column_names,\n",
    "#             sep=' *, *', skiprows=1, na_values='?')\n",
    "#\n",
    "#test_df = pd.read_csv(test_csv_path, names=column_names, skipinitialspace=True, skiprows=1)\n",
    "#\n",
    "## define classifier\n",
    "clf = DecisionTreeClassifier()\n",
    "clf.fit(X, y)\n",
    "\n",
    "X['salary'] = y\n",
    "num_datapoints = 2000\n",
    "tool_height_in_px = 1000\n",
    "\n",
    "label_column = 'salary'\n",
    "make_label_column_numeric(X, label_column, lambda val: val == '>50K.')\n",
    "\n",
    "X.columns = column_names\n",
    "test_examples = df_to_examples(X[0:num_datapoints])\n",
    "labels = ['Under 50K', 'Over 50K']\n",
    " #\n",
    "## Setup the tool with the test examples and the trained classifier\n",
    "config_builder = config(test_examples, clf, labels, column_names)\n",
    "#\n",
    "WitWidget(config_builder, height=tool_height_in_px)"
   ]
  },
  {
   "cell_type": "code",
   "execution_count": null,
   "metadata": {},
   "outputs": [],
   "source": []
  }
 ],
 "metadata": {
  "kernelspec": {
   "display_name": "Python 3",
   "language": "python",
   "name": "python3"
  },
  "language_info": {
   "codemirror_mode": {
    "name": "ipython",
    "version": 3
   },
   "file_extension": ".py",
   "mimetype": "text/x-python",
   "name": "python",
   "nbconvert_exporter": "python",
   "pygments_lexer": "ipython3",
   "version": "3.8.5"
  }
 },
 "nbformat": 4,
 "nbformat_minor": 4
}
